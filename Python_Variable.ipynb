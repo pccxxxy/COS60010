{
  "nbformat": 4,
  "nbformat_minor": 0,
  "metadata": {
    "colab": {
      "name": "Python-Variable.ipynb",
      "provenance": [],
      "collapsed_sections": [],
      "include_colab_link": true
    },
    "kernelspec": {
      "name": "python3",
      "display_name": "Python 3"
    },
    "language_info": {
      "name": "python"
    }
  },
  "cells": [
    {
      "cell_type": "markdown",
      "metadata": {
        "id": "view-in-github",
        "colab_type": "text"
      },
      "source": [
        "<a href=\"https://colab.research.google.com/github/pccxxxy/COS60010/blob/master/Python_Variable.ipynb\" target=\"_parent\"><img src=\"https://colab.research.google.com/assets/colab-badge.svg\" alt=\"Open In Colab\"/></a>"
      ]
    },
    {
      "cell_type": "markdown",
      "source": [
        "# Variable \n",
        "## Definition (know)\n",
        "Variables are containers for storing data values \n",
        "\n",
        "**Analogy**: variable in mathmatics\n",
        "* except in Python, value of a variable can **change**\n",
        "\n"
      ],
      "metadata": {
        "id": "djt9u8Zcijsm"
      }
    },
    {
      "cell_type": "markdown",
      "source": [
        "## Three things we need to know about a variable (know)\n",
        "* name\n",
        "* type\n",
        "* value"
      ],
      "metadata": {
        "id": "R6hI0gLSyVKK"
      }
    },
    {
      "cell_type": "markdown",
      "source": [
        "## Creating Variables (apply)\n",
        "\n",
        "A variable is created the moment you first assign a value to it.\n",
        "* assign is done by **=**"
      ],
      "metadata": {
        "id": "f5Be_8j3i0k-"
      }
    },
    {
      "cell_type": "code",
      "source": [
        "x = 5\n",
        "print(x)"
      ],
      "metadata": {
        "colab": {
          "base_uri": "https://localhost:8080/"
        },
        "id": "4O03uVcYi0Km",
        "outputId": "b62c037c-699b-430d-d5f7-786528bd819b"
      },
      "execution_count": null,
      "outputs": [
        {
          "output_type": "stream",
          "name": "stdout",
          "text": [
            "5\n"
          ]
        }
      ]
    },
    {
      "cell_type": "markdown",
      "source": [
        "We use `type()` to get the type of the variable"
      ],
      "metadata": {
        "id": "TIVVLk19zQ8o"
      }
    },
    {
      "cell_type": "code",
      "source": [
        "print(type(x))"
      ],
      "metadata": {
        "colab": {
          "base_uri": "https://localhost:8080/"
        },
        "id": "PyWp5tjPi4sU",
        "outputId": "a5939b30-998d-47e9-eaab-c021a0b4392e"
      },
      "execution_count": null,
      "outputs": [
        {
          "output_type": "stream",
          "name": "stdout",
          "text": [
            "<class 'int'>\n"
          ]
        }
      ]
    },
    {
      "cell_type": "markdown",
      "source": [
        "You can change variable value and type after they have been set."
      ],
      "metadata": {
        "id": "GOqZvmDRkAXt"
      }
    },
    {
      "cell_type": "code",
      "source": [
        "x = 'bob'\n",
        "print(x)"
      ],
      "metadata": {
        "colab": {
          "base_uri": "https://localhost:8080/"
        },
        "id": "NXwtSnuykG1t",
        "outputId": "be292e07-9d8f-4386-fa72-4a174faa1d97"
      },
      "execution_count": null,
      "outputs": [
        {
          "output_type": "stream",
          "name": "stdout",
          "text": [
            "bob\n"
          ]
        }
      ]
    },
    {
      "cell_type": "code",
      "execution_count": null,
      "metadata": {
        "colab": {
          "base_uri": "https://localhost:8080/"
        },
        "id": "wJiTAU1Liip1",
        "outputId": "c06b5d50-d7ec-45d1-e386-59caaf9e3ab1"
      },
      "outputs": [
        {
          "output_type": "stream",
          "name": "stdout",
          "text": [
            "<class 'str'>\n"
          ]
        }
      ],
      "source": [
        "print(type(x))"
      ]
    },
    {
      "cell_type": "markdown",
      "source": [
        "## Variable Naming Rules (know)\n",
        "https://www.w3schools.com/python/python_variables_names.asp\n",
        "\n",
        "Most important: case sensitive\n",
        "\n",
        "\n"
      ],
      "metadata": {
        "id": "7H-mFXAmklt0"
      }
    },
    {
      "cell_type": "code",
      "source": [
        "a = 12\n",
        "A = 21\n",
        "print(a)\n",
        "print(A)"
      ],
      "metadata": {
        "colab": {
          "base_uri": "https://localhost:8080/"
        },
        "id": "j7fjAZpEkgJw",
        "outputId": "35496ce8-fba3-43f3-b7eb-428d2957d1b2"
      },
      "execution_count": null,
      "outputs": [
        {
          "output_type": "stream",
          "name": "stdout",
          "text": [
            "12\n",
            "21\n",
            "False\n"
          ]
        }
      ]
    },
    {
      "cell_type": "markdown",
      "source": [
        "## Casting (understand)\n",
        "If you want to specify the data type of a variable, this can be done with casting.\n",
        "\n"
      ],
      "metadata": {
        "id": "dfbxT-wukRjb"
      }
    },
    {
      "cell_type": "code",
      "source": [
        "x = str(3) \n",
        "print(type(x))"
      ],
      "metadata": {
        "colab": {
          "base_uri": "https://localhost:8080/"
        },
        "id": "-rgeM0QMkOG7",
        "outputId": "159771e1-f606-468b-bf27-b41203bda4b9"
      },
      "execution_count": null,
      "outputs": [
        {
          "output_type": "stream",
          "name": "stdout",
          "text": [
            "<class 'str'>\n"
          ]
        }
      ]
    },
    {
      "cell_type": "code",
      "source": [
        "print(x)"
      ],
      "metadata": {
        "colab": {
          "base_uri": "https://localhost:8080/"
        },
        "id": "JsMNIuL_zmLM",
        "outputId": "bb6c831a-ad19-4b19-f9ff-63580af4dbfd"
      },
      "execution_count": null,
      "outputs": [
        {
          "output_type": "stream",
          "name": "stdout",
          "text": [
            "3\n"
          ]
        }
      ]
    },
    {
      "cell_type": "code",
      "source": [
        "x = float(3)\n",
        "print(type(x))"
      ],
      "metadata": {
        "colab": {
          "base_uri": "https://localhost:8080/"
        },
        "id": "SebjdmSYkc5-",
        "outputId": "4b49ea62-0567-4c55-ae97-e2580f6d579b"
      },
      "execution_count": null,
      "outputs": [
        {
          "output_type": "stream",
          "name": "stdout",
          "text": [
            "<class 'float'>\n"
          ]
        }
      ]
    },
    {
      "cell_type": "code",
      "source": [
        "print(x)"
      ],
      "metadata": {
        "colab": {
          "base_uri": "https://localhost:8080/"
        },
        "id": "dq-ryXy7zoUv",
        "outputId": "6b0a4c66-a51c-4063-8629-0eb5afa3c759"
      },
      "execution_count": null,
      "outputs": [
        {
          "output_type": "stream",
          "name": "stdout",
          "text": [
            "3.0\n"
          ]
        }
      ]
    },
    {
      "cell_type": "markdown",
      "source": [
        "## Assign Multiple values (understand)\n",
        "You can assign multiple values to multiple variables"
      ],
      "metadata": {
        "id": "WzZUQiVarIKc"
      }
    },
    {
      "cell_type": "code",
      "source": [
        "x, y, z = \"Orange\", \"Banana\", \"Cherry\"\n",
        "print(x)\n",
        "print(y)\n",
        "print(z)"
      ],
      "metadata": {
        "colab": {
          "base_uri": "https://localhost:8080/"
        },
        "id": "KfFgXupKrEG9",
        "outputId": "fc9a9d55-bf6c-45bc-941c-7eeb0548076e"
      },
      "execution_count": null,
      "outputs": [
        {
          "output_type": "stream",
          "name": "stdout",
          "text": [
            "Orange\n",
            "Banana\n",
            "Cherry\n"
          ]
        }
      ]
    },
    {
      "cell_type": "markdown",
      "source": [
        "You can assign one value to multiple variables"
      ],
      "metadata": {
        "id": "own-vfvMrTdq"
      }
    },
    {
      "cell_type": "code",
      "source": [
        "x = y = z = \"Orange\"\n",
        "print(x)\n",
        "print(y)\n",
        "print(z)"
      ],
      "metadata": {
        "colab": {
          "base_uri": "https://localhost:8080/"
        },
        "id": "wiJcb_iUrS81",
        "outputId": "3ea5d910-ae03-4fbd-d95a-dedf06570896"
      },
      "execution_count": null,
      "outputs": [
        {
          "output_type": "stream",
          "name": "stdout",
          "text": [
            "Orange\n",
            "Orange\n",
            "Orange\n"
          ]
        }
      ]
    },
    {
      "cell_type": "markdown",
      "source": [
        "## Errors (know)"
      ],
      "metadata": {
        "id": "yfJsbIClwk1R"
      }
    },
    {
      "cell_type": "code",
      "source": [
        "## use a variable without create it first\n",
        "print(sss)"
      ],
      "metadata": {
        "colab": {
          "base_uri": "https://localhost:8080/",
          "height": 187
        },
        "id": "NbtnADiywioK",
        "outputId": "09bc5f5f-7ce3-4a7e-b38e-a163381ab5e3"
      },
      "execution_count": null,
      "outputs": [
        {
          "output_type": "error",
          "ename": "NameError",
          "evalue": "ignored",
          "traceback": [
            "\u001b[0;31m---------------------------------------------------------------------------\u001b[0m",
            "\u001b[0;31mNameError\u001b[0m                                 Traceback (most recent call last)",
            "\u001b[0;32m<ipython-input-16-51de29b61bcb>\u001b[0m in \u001b[0;36m<module>\u001b[0;34m()\u001b[0m\n\u001b[1;32m      1\u001b[0m \u001b[0;31m## use a variable without initialize it first\u001b[0m\u001b[0;34m\u001b[0m\u001b[0;34m\u001b[0m\u001b[0;34m\u001b[0m\u001b[0m\n\u001b[0;32m----> 2\u001b[0;31m \u001b[0mprint\u001b[0m\u001b[0;34m(\u001b[0m\u001b[0msss\u001b[0m\u001b[0;34m)\u001b[0m\u001b[0;34m\u001b[0m\u001b[0;34m\u001b[0m\u001b[0m\n\u001b[0m",
            "\u001b[0;31mNameError\u001b[0m: name 'sss' is not defined"
          ]
        }
      ]
    },
    {
      "cell_type": "markdown",
      "source": [
        "## Reference (Understand)\n",
        "\n",
        "A variable references an object that holds a value. In other words, variables are references."
      ],
      "metadata": {
        "id": "Dz1z9a-6_WrY"
      }
    },
    {
      "cell_type": "code",
      "source": [
        "x = 1.0\n",
        "y = x\n",
        "print(id(x), id(y))"
      ],
      "metadata": {
        "id": "YZfMgnHhw0wR",
        "colab": {
          "base_uri": "https://localhost:8080/"
        },
        "outputId": "107b692a-a0e7-4652-a1f9-0f88c6e30068"
      },
      "execution_count": null,
      "outputs": [
        {
          "output_type": "stream",
          "name": "stdout",
          "text": [
            "140436081016176 140436081016176\n"
          ]
        }
      ]
    },
    {
      "cell_type": "code",
      "source": [
        "y = 2.0\n",
        "print(id(x), id(y))"
      ],
      "metadata": {
        "colab": {
          "base_uri": "https://localhost:8080/"
        },
        "id": "YWuSZm5d_m5B",
        "outputId": "a0d51c99-9f3c-4c66-b64b-e505844d32aa"
      },
      "execution_count": null,
      "outputs": [
        {
          "output_type": "stream",
          "name": "stdout",
          "text": [
            "140436081016176 140436090752432\n"
          ]
        }
      ]
    },
    {
      "cell_type": "code",
      "source": [
        "x = 1\n",
        "id(x)"
      ],
      "metadata": {
        "colab": {
          "base_uri": "https://localhost:8080/"
        },
        "id": "VT-FJl8F_ppe",
        "outputId": "77864b4d-fcfb-420c-b900-a0902b3bee6f"
      },
      "execution_count": null,
      "outputs": [
        {
          "output_type": "execute_result",
          "data": {
            "text/plain": [
              "11256064"
            ]
          },
          "metadata": {},
          "execution_count": 3
        }
      ]
    },
    {
      "cell_type": "code",
      "source": [
        "x = x + 1\n",
        "id(x)"
      ],
      "metadata": {
        "colab": {
          "base_uri": "https://localhost:8080/"
        },
        "id": "ZfwvKSYf_usP",
        "outputId": "1052d884-f04f-4972-a93f-c6ec3a752c0b"
      },
      "execution_count": null,
      "outputs": [
        {
          "output_type": "execute_result",
          "data": {
            "text/plain": [
              "11256096"
            ]
          },
          "metadata": {},
          "execution_count": 4
        }
      ]
    },
    {
      "cell_type": "code",
      "source": [
        "y = 2\n",
        "id(y)"
      ],
      "metadata": {
        "colab": {
          "base_uri": "https://localhost:8080/"
        },
        "id": "8OQVA0-f_xPt",
        "outputId": "8d277d61-afa2-43cf-da88-ddba18056730"
      },
      "execution_count": null,
      "outputs": [
        {
          "output_type": "execute_result",
          "data": {
            "text/plain": [
              "11256096"
            ]
          },
          "metadata": {},
          "execution_count": 5
        }
      ]
    }
  ]
}